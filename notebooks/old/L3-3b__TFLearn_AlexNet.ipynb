{
 "cells": [
  {
   "cell_type": "markdown",
   "metadata": {},
   "source": [
    "# 3.3b Demos of Classic ConvNet Architectures"
   ]
  },
  {
   "cell_type": "markdown",
   "metadata": {},
   "source": [
    "#### Leverage AlexNet [(Krizhevsky et al., 2014)](https://papers.nips.cc/paper/4824-imagenet-classification-with-deep-convolutional-neural-networks) to classify flowers into the 17 categories of the Oxford data set; based on code [here](https://github.com/tflearn/tflearn/blob/master/examples/images/alexnet.py)"
   ]
  },
  {
   "cell_type": "code",
   "execution_count": 1,
   "metadata": {
    "collapsed": true
   },
   "outputs": [],
   "source": [
    "from __future__ import division, print_function, absolute_import"
   ]
  },
  {
   "cell_type": "code",
   "execution_count": 2,
   "metadata": {
    "collapsed": true
   },
   "outputs": [],
   "source": [
    "import tflearn\n",
    "from tflearn.layers.core import input_data, dropout, fully_connected\n",
    "from tflearn.layers.conv import conv_2d, max_pool_2d\n",
    "from tflearn.layers.normalization import local_response_normalization\n",
    "from tflearn.layers.estimator import regression"
   ]
  },
  {
   "cell_type": "markdown",
   "metadata": {
    "collapsed": true
   },
   "source": [
    "#### Load and Preprocess the Data"
   ]
  },
  {
   "cell_type": "code",
   "execution_count": 3,
   "metadata": {
    "collapsed": true
   },
   "outputs": [],
   "source": [
    "import tflearn.datasets.oxflower17 as oxflower17"
   ]
  },
  {
   "cell_type": "code",
   "execution_count": 4,
   "metadata": {},
   "outputs": [
    {
     "name": "stdout",
     "output_type": "stream",
     "text": [
      "Downloading Oxford 17 category Flower Dataset, Please wait...\n"
     ]
    },
    {
     "name": "stderr",
     "output_type": "stream",
     "text": [
      "100.0% 60276736 / 60270631\n"
     ]
    },
    {
     "name": "stdout",
     "output_type": "stream",
     "text": [
      "('Succesfully downloaded', '17flowers.tgz', 60270631, 'bytes.')\n",
      "File Extracted\n",
      "Starting to parse images...\n",
      "Parsing Done!\n"
     ]
    }
   ],
   "source": [
    "X, Y = oxflower17.load_data(one_hot=True, resize_pics=(227, 227))"
   ]
  },
  {
   "cell_type": "markdown",
   "metadata": {},
   "source": [
    "#### Build Neural Network Layers into 'AlexNet'"
   ]
  },
  {
   "cell_type": "code",
   "execution_count": 5,
   "metadata": {
    "collapsed": true
   },
   "outputs": [],
   "source": [
    "network = input_data(shape=[None, 227, 227, 3])\n",
    "\n",
    "network = conv_2d(network, 96, 11, strides=4, activation='relu')\n",
    "network = max_pool_2d(network, 3, strides=2)\n",
    "network = local_response_normalization(network)\n",
    "\n",
    "network = conv_2d(network, 256, 5, activation='relu')\n",
    "network = max_pool_2d(network, 3, strides=2)\n",
    "network = local_response_normalization(network)\n",
    "\n",
    "network = conv_2d(network, 384, 3, activation='relu')\n",
    "network = conv_2d(network, 384, 3, activation='relu')\n",
    "network = conv_2d(network, 256, 3, activation='relu')\n",
    "network = max_pool_2d(network, 3, strides=2)\n",
    "network = local_response_normalization(network)\n",
    "\n",
    "network = fully_connected(network, 4096, activation='tanh')\n",
    "network = dropout(network, 0.5)\n",
    "network = fully_connected(network, 4096, activation='tanh')\n",
    "network = dropout(network, 0.5)\n",
    "\n",
    "network = fully_connected(network, 17, activation='softmax')\n",
    "\n",
    "network = regression(network, optimizer='momentum',\n",
    "                     loss='categorical_crossentropy',\n",
    "                     learning_rate=0.001)"
   ]
  },
  {
   "cell_type": "markdown",
   "metadata": {},
   "source": [
    "#### Train the Neural Network"
   ]
  },
  {
   "cell_type": "code",
   "execution_count": 6,
   "metadata": {
    "collapsed": true
   },
   "outputs": [],
   "source": [
    "model = tflearn.DNN(network, checkpoint_path='model_alexnet',\n",
    "                    max_checkpoints=1, tensorboard_verbose=0)"
   ]
  },
  {
   "cell_type": "code",
   "execution_count": null,
   "metadata": {},
   "outputs": [
    {
     "name": "stdout",
     "output_type": "stream",
     "text": [
      "Training Step: 5376  | total loss: \u001b[1m\u001b[32m0.10451\u001b[0m\u001b[0m | time: 147.214s\n",
      "\u001b[2K\r",
      "| Momentum | epoch: 269 | loss: 0.10451 - acc: 0.9924 -- iter: 1024/1224\n"
     ]
    }
   ],
   "source": [
    "# n_epoch=1000 is recommended:\n",
    "model.fit(X, Y, n_epoch=1000, validation_set=0.1, shuffle=True,\n",
    "          show_metric=True, batch_size=64, snapshot_step=200,\n",
    "          snapshot_epoch=False, run_id='alexnet_oxflowers17')"
   ]
  },
  {
   "cell_type": "code",
   "execution_count": null,
   "metadata": {
    "collapsed": true
   },
   "outputs": [],
   "source": []
  }
 ],
 "metadata": {
  "anaconda-cloud": {},
  "celltoolbar": "Raw Cell Format",
  "kernelspec": {
   "display_name": "Python 3",
   "language": "python",
   "name": "python3"
  },
  "language_info": {
   "codemirror_mode": {
    "name": "ipython",
    "version": 3
   },
   "file_extension": ".py",
   "mimetype": "text/x-python",
   "name": "python",
   "nbconvert_exporter": "python",
   "pygments_lexer": "ipython3",
   "version": "3.5.2"
  }
 },
 "nbformat": 4,
 "nbformat_minor": 1
}
