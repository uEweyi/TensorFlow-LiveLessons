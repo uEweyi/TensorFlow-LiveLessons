{
 "cells": [
  {
   "cell_type": "markdown",
   "metadata": {},
   "source": [
    "# First TensorFlow Neurons"
   ]
  },
  {
   "cell_type": "markdown",
   "metadata": {},
   "source": [
    "#### Load dependencies"
   ]
  },
  {
   "cell_type": "code",
   "execution_count": 1,
   "metadata": {
    "collapsed": true
   },
   "outputs": [],
   "source": [
    "import numpy as np\n",
    "np.random.seed(42)\n",
    "import tensorflow as tf\n",
    "tf.set_random_seed(42)\n",
    "import matplotlib.pyplot as plt"
   ]
  },
  {
   "cell_type": "markdown",
   "metadata": {},
   "source": [
    "#### Set number of neurons"
   ]
  },
  {
   "cell_type": "code",
   "execution_count": 2,
   "metadata": {
    "collapsed": true
   },
   "outputs": [],
   "source": [
    "n_input = 784\n",
    "n_dense = 128"
   ]
  },
  {
   "cell_type": "markdown",
   "metadata": {},
   "source": [
    "#### Define placeholder Tensor for simulated MNIST digits"
   ]
  },
  {
   "cell_type": "code",
   "execution_count": 3,
   "metadata": {
    "collapsed": true
   },
   "outputs": [],
   "source": [
    "x = tf.placeholder(tf.float32, [None, 784])"
   ]
  },
  {
   "cell_type": "markdown",
   "metadata": {},
   "source": [
    "#### Create Variable Tensors for neuron biases `b` and weight matrix `W`"
   ]
  },
  {
   "cell_type": "code",
   "execution_count": 4,
   "metadata": {
    "collapsed": true
   },
   "outputs": [],
   "source": [
    "b = tf.Variable(tf.zeros([n_dense]))\n",
    "W = tf.get_variable('W', [n_input, n_dense], \n",
    "                    initializer=tf.contrib.layers.xavier_initializer())"
   ]
  },
  {
   "cell_type": "markdown",
   "metadata": {},
   "source": [
    "#### Design the computational graph"
   ]
  },
  {
   "cell_type": "code",
   "execution_count": 5,
   "metadata": {
    "collapsed": true
   },
   "outputs": [],
   "source": [
    "z = tf.add(tf.matmul(x, W), b)\n",
    "a = tf.sigmoid(z) # first with tf.sigmoid(), then tf.tanh(), tf.nn.relu()"
   ]
  },
  {
   "cell_type": "markdown",
   "metadata": {},
   "source": [
    "#### Create op for variable initialization"
   ]
  },
  {
   "cell_type": "code",
   "execution_count": 6,
   "metadata": {
    "collapsed": true
   },
   "outputs": [],
   "source": [
    "initializer_op = tf.global_variables_initializer()"
   ]
  },
  {
   "cell_type": "markdown",
   "metadata": {},
   "source": [
    "#### Execute the graph in a session"
   ]
  },
  {
   "cell_type": "code",
   "execution_count": 7,
   "metadata": {
    "collapsed": true
   },
   "outputs": [],
   "source": [
    "with tf.Session() as session:\n",
    "    session.run(initializer_op)\n",
    "    \n",
    "    layer_output = session.run(a, {x: np.random.random([1, n_input])})"
   ]
  },
  {
   "cell_type": "code",
   "execution_count": 8,
   "metadata": {},
   "outputs": [
    {
     "data": {
      "text/plain": [
       "array([[ 0.57073414,  0.65992647,  0.61884737,  0.64189774,  0.17006642,\n",
       "         0.50674987,  0.62251973,  0.58757597,  0.58370876,  0.65775836,\n",
       "         0.3048493 ,  0.52542555,  0.45554936,  0.64830405,  0.43454415,\n",
       "         0.78578335,  0.4552595 ,  0.51750422,  0.62821925,  0.64718068,\n",
       "         0.61292428,  0.69987768,  0.52722698,  0.60809189,  0.42080066,\n",
       "         0.58241183,  0.52680618,  0.47643629,  0.23155768,  0.59572536,\n",
       "         0.54326004,  0.29285488,  0.25627989,  0.44510239,  0.51189512,\n",
       "         0.61240494,  0.5101797 ,  0.2941035 ,  0.56916881,  0.17105685,\n",
       "         0.65683049,  0.22064029,  0.28180707,  0.43392748,  0.41296226,\n",
       "         0.5518164 ,  0.33718562,  0.27173847,  0.12078251,  0.63258475,\n",
       "         0.85116297,  0.54857838,  0.5644635 ,  0.44318143,  0.2106353 ,\n",
       "         0.64221507,  0.58982658,  0.47907111,  0.48277768,  0.45518854,\n",
       "         0.319392  ,  0.70392001,  0.33859405,  0.17875837,  0.69726157,\n",
       "         0.74456227,  0.65599406,  0.33238113,  0.45341542,  0.40397045,\n",
       "         0.24503854,  0.63733184,  0.39441285,  0.44713956,  0.39294699,\n",
       "         0.5610705 ,  0.67454046,  0.5719561 ,  0.29888836,  0.5550676 ,\n",
       "         0.34685662,  0.38934371,  0.54121923,  0.71514136,  0.44941241,\n",
       "         0.45905373,  0.4366926 ,  0.67179185,  0.62268394,  0.6520353 ,\n",
       "         0.5456754 ,  0.48498678,  0.25733876,  0.71395433,  0.43123743,\n",
       "         0.51963425,  0.77897203,  0.49273375,  0.62162459,  0.50153297,\n",
       "         0.41758841,  0.67014885,  0.55533892,  0.58689821,  0.39653796,\n",
       "         0.55492908,  0.4685666 ,  0.69740385,  0.69595307,  0.51356608,\n",
       "         0.47550088,  0.5329209 ,  0.49567831,  0.50622499,  0.43856516,\n",
       "         0.520778  ,  0.73712254,  0.49067861,  0.57469326,  0.44905737,\n",
       "         0.49557927,  0.43592909,  0.51303804,  0.43131626,  0.25969297,\n",
       "         0.41285625,  0.34037164,  0.23098721]], dtype=float32)"
      ]
     },
     "execution_count": 8,
     "metadata": {},
     "output_type": "execute_result"
    }
   ],
   "source": [
    "layer_output"
   ]
  },
  {
   "cell_type": "code",
   "execution_count": 9,
   "metadata": {},
   "outputs": [
    {
     "data": {
      "image/png": "[encoded data removed]",
      "text/plain": [
       "<matplotlib.figure.Figure at 0x7f813ebda3c8>"
      ]
     },
     "metadata": {},
     "output_type": "display_data"
    }
   ],
   "source": [
    "_ = plt.hist(np.transpose(layer_output))"
   ]
  },
  {
   "cell_type": "code",
   "execution_count": null,
   "metadata": {
    "collapsed": true
   },
   "outputs": [],
   "source": []
  }
 ],
 "metadata": {
  "kernelspec": {
   "display_name": "Python 3",
   "language": "python",
   "name": "python3"
  },
  "language_info": {
   "codemirror_mode": {
    "name": "ipython",
    "version": 3
   },
   "file_extension": ".py",
   "mimetype": "text/x-python",
   "name": "python",
   "nbconvert_exporter": "python",
   "pygments_lexer": "ipython3",
   "version": "3.5.2"
  }
 },
 "nbformat": 4,
 "nbformat_minor": 2
}
