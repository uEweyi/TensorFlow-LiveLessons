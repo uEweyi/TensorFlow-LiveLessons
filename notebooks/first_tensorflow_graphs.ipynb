{
 "cells": [
  {
   "cell_type": "markdown",
   "metadata": {},
   "source": [
    "# First TensorFlow Graphs"
   ]
  },
  {
   "cell_type": "markdown",
   "metadata": {},
   "source": [
    "In this notebook, we execute elementary TensorFlow computational graphs."
   ]
  },
  {
   "cell_type": "markdown",
   "metadata": {},
   "source": [
    "#### Load dependencies"
   ]
  },
  {
   "cell_type": "code",
   "execution_count": 1,
   "metadata": {
    "collapsed": true
   },
   "outputs": [],
   "source": [
    "import numpy as np\n",
    "np.random.seed(42)\n",
    "import tensorflow as tf\n",
    "tf.set_random_seed(42)\n",
    "import matplotlib.pyplot as plt"
   ]
  },
  {
   "cell_type": "markdown",
   "metadata": {},
   "source": [
    "#### Simple arithmetic"
   ]
  },
  {
   "cell_type": "code",
   "execution_count": 2,
   "metadata": {
    "collapsed": true
   },
   "outputs": [],
   "source": [
    "x1 = tf.placeholder(tf.float32)\n",
    "x2 = tf.placeholder(tf.float32)"
   ]
  },
  {
   "cell_type": "code",
   "execution_count": 3,
   "metadata": {
    "collapsed": true
   },
   "outputs": [],
   "source": [
    "sum_op = tf.add(x1, x2)\n",
    "product_op = tf.multiply(x1, x2)"
   ]
  },
  {
   "cell_type": "code",
   "execution_count": 4,
   "metadata": {
    "collapsed": true
   },
   "outputs": [],
   "source": [
    "with tf.Session() as session:\n",
    "    sum_result = session.run(sum_op, feed_dict={x1: 2.0, x2: 0.5}) # run again with {x1: [2.0, 2.0, 2.0], x2: [0.5, 1.0, 2.0]}\n",
    "    product_result = session.run(product_op, feed_dict={x1: 2.0, x2: 0.5}) # ...and with {x1: [2.0, 4.0], x2: 0.5}"
   ]
  },
  {
   "cell_type": "code",
   "execution_count": 5,
   "metadata": {},
   "outputs": [
    {
     "data": {
      "text/plain": [
       "2.5"
      ]
     },
     "execution_count": 5,
     "metadata": {},
     "output_type": "execute_result"
    }
   ],
   "source": [
    "sum_result"
   ]
  },
  {
   "cell_type": "code",
   "execution_count": 6,
   "metadata": {},
   "outputs": [
    {
     "data": {
      "text/plain": [
       "1.0"
      ]
     },
     "execution_count": 6,
     "metadata": {},
     "output_type": "execute_result"
    }
   ],
   "source": [
    "product_result"
   ]
  },
  {
   "cell_type": "markdown",
   "metadata": {},
   "source": [
    "#### Layer of one hundred neurons (derived from Jon Gauthier's [slides](https://docs.google.com/presentation/d/1oB_U_JagxWQdQJlLD80XlNk6fuv42bHV0hfDAPGAbrc/edit#slide=id.p))"
   ]
  },
  {
   "cell_type": "code",
   "execution_count": 7,
   "metadata": {
    "collapsed": true
   },
   "outputs": [],
   "source": [
    "# define a placeholder tensor for simulated MNIST digits\n",
    "x = tf.placeholder(tf.float32, (None, 784))"
   ]
  },
  {
   "cell_type": "code",
   "execution_count": 8,
   "metadata": {
    "collapsed": true
   },
   "outputs": [],
   "source": [
    "# create Variable tensors for neuron biases b and weight matrix W\n",
    "b = tf.Variable(tf.zeros((100,)))\n",
    "W = tf.Variable(tf.random_uniform((784, 100), -1, 1))"
   ]
  },
  {
   "cell_type": "code",
   "execution_count": 9,
   "metadata": {
    "collapsed": true
   },
   "outputs": [],
   "source": [
    "# define the computational graph\n",
    "z = tf.add(tf.matmul(x, W), b)\n",
    "a = tf.sigmoid(z)  # first with tf.sigmoid(), then tf.tanh(), tf.nn.relu()"
   ]
  },
  {
   "cell_type": "code",
   "execution_count": 10,
   "metadata": {
    "collapsed": true
   },
   "outputs": [],
   "source": [
    "# initialize a session\n",
    "with tf.Session() as session:\n",
    "    session.run(tf.global_variables_initializer())\n",
    "    layer_output = session.run(a, {x: np.random.random((1, 784))}) # fetch \"a\" and feed \"x\""
   ]
  },
  {
   "cell_type": "code",
   "execution_count": 11,
   "metadata": {},
   "outputs": [
    {
     "data": {
      "text/plain": [
       "array([[  2.14992696e-03,   2.99020763e-03,   9.95429397e-01,\n",
       "          9.99999881e-01,   7.86750615e-01,   1.62361875e-01,\n",
       "          4.29807663e-01,   1.77888738e-04,   8.71355442e-05,\n",
       "          3.58231552e-02,   5.61740398e-01,   9.94202435e-01,\n",
       "          9.76865530e-01,   9.90375340e-01,   9.84366834e-01,\n",
       "          6.28304556e-02,   1.00000000e+00,   9.99996662e-01,\n",
       "          2.11844551e-08,   9.99999881e-01,   1.48046252e-04,\n",
       "          8.53867186e-06,   1.00000000e+00,   5.83484620e-02,\n",
       "          9.98298705e-01,   1.37030572e-01,   9.94336426e-01,\n",
       "          9.99997616e-01,   9.99892235e-01,   9.99938250e-01,\n",
       "          9.99999762e-01,   5.66443354e-08,   1.00000000e+00,\n",
       "          6.68175101e-01,   9.99422669e-01,   9.99954224e-01,\n",
       "          9.99980330e-01,   9.99989390e-01,   9.63680446e-01,\n",
       "          8.25454132e-04,   9.99933839e-01,   9.99717176e-01,\n",
       "          3.09575852e-02,   9.99970436e-01,   9.99992013e-01,\n",
       "          9.99779165e-01,   9.99658108e-01,   5.71554853e-03,\n",
       "          7.71174200e-07,   3.65176966e-05,   1.67434841e-01,\n",
       "          5.01761258e-01,   4.29360688e-01,   9.99999881e-01,\n",
       "          9.99943376e-01,   5.05614851e-04,   2.57699343e-04,\n",
       "          9.99999166e-01,   9.72518802e-01,   5.18093159e-08,\n",
       "          8.39515924e-02,   9.46431041e-01,   9.97815609e-01,\n",
       "          1.48713356e-04,   9.99893308e-01,   2.92946808e-02,\n",
       "          3.69176109e-06,   6.21286640e-03,   9.99999642e-01,\n",
       "          9.86650944e-01,   7.67428754e-03,   9.12920773e-01,\n",
       "          1.35408825e-07,   3.74279008e-03,   9.95589018e-01,\n",
       "          9.95435417e-01,   3.26925606e-01,   8.23837399e-01,\n",
       "          9.99995351e-01,   1.81120358e-05,   5.26985347e-01,\n",
       "          9.74540948e-04,   8.38382661e-01,   1.52607649e-09,\n",
       "          5.65352477e-03,   1.87667290e-04,   8.99571121e-01,\n",
       "          9.59998846e-01,   2.78342634e-01,   3.58333637e-04,\n",
       "          6.76736933e-09,   5.97440004e-01,   1.00000000e+00,\n",
       "          9.94188786e-01,   1.91094354e-01,   2.17532739e-03,\n",
       "          3.82019609e-01,   9.34982207e-04,   9.99999762e-01,\n",
       "          8.57010245e-01]], dtype=float32)"
      ]
     },
     "execution_count": 11,
     "metadata": {},
     "output_type": "execute_result"
    }
   ],
   "source": [
    "layer_output"
   ]
  },
  {
   "cell_type": "code",
   "execution_count": 12,
   "metadata": {},
   "outputs": [
    {
     "data": {
      "image/png": "[encoded data removed]",
      "text/plain": [
       "<matplotlib.figure.Figure at 0x7fefbc773208>"
      ]
     },
     "metadata": {},
     "output_type": "display_data"
    }
   ],
   "source": [
    "_ = plt.hist(np.transpose(layer_output))"
   ]
  },
  {
   "cell_type": "code",
   "execution_count": null,
   "metadata": {
    "collapsed": true
   },
   "outputs": [],
   "source": []
  }
 ],
 "metadata": {
  "kernelspec": {
   "display_name": "Python 3",
   "language": "python",
   "name": "python3"
  },
  "language_info": {
   "codemirror_mode": {
    "name": "ipython",
    "version": 3
   },
   "file_extension": ".py",
   "mimetype": "text/x-python",
   "name": "python",
   "nbconvert_exporter": "python",
   "pygments_lexer": "ipython3",
   "version": "3.5.2"
  }
 },
 "nbformat": 4,
 "nbformat_minor": 2
}
